{
 "cells": [
  {
   "cell_type": "code",
   "execution_count": null,
   "metadata": {},
   "outputs": [],
   "source": [
    "def avoids (word, letters=[]):\n",
    "    \n",
    "    if letters in word:\n",
    "        return false\n",
    "    else:\n",
    "        return true\n",
    "\n",
    "word= input(\"a word\")\n",
    "letters= input(\"the forbiden letters\")  \n"
   ]
  },
  {
   "cell_type": "code",
   "execution_count": null,
   "metadata": {},
   "outputs": [],
   "source": [
    "def uses_all (word, letters=[]):\n",
    "    \n",
    "    if letters in word:\n",
    "        return true\n",
    "    else:\n",
    "        return false\n"
   ]
  },
  {
   "cell_type": "code",
   "execution_count": 6,
   "metadata": {},
   "outputs": [],
   "source": [
    "import random\n",
    "player_1 = random.randint(0,5)\n",
    "player_2 = random.randint(0,5)\n",
    "sum = player_1 + player_2\n",
    "if sum%2 == 0:\n",
    "    print (\"player_2 wins\")\n",
    "else:\n",
    "    print (\"player_1 wins\")"
   ]
  },
  {
   "cell_type": "code",
   "execution_count": 7,
   "metadata": {},
   "outputs": [
    {
     "data": {
      "text/plain": [
       "25.0"
      ]
     },
     "execution_count": 7,
     "metadata": {},
     "output_type": "execute_result"
    }
   ],
   "source": [
    "\n",
    "def speed (distance, time):\n",
    "    speed = distance / time\n",
    "    return speed\n",
    "speed (50,2)"
   ]
  },
  {
   "cell_type": "code",
   "execution_count": null,
   "metadata": {},
   "outputs": [],
   "source": []
  }
 ],
 "metadata": {
  "kernelspec": {
   "display_name": "Python 3",
   "language": "python",
   "name": "python3"
  },
  "language_info": {
   "codemirror_mode": {
    "name": "ipython",
    "version": 3
   },
   "file_extension": ".py",
   "mimetype": "text/x-python",
   "name": "python",
   "nbconvert_exporter": "python",
   "pygments_lexer": "ipython3",
   "version": "3.8.5"
  }
 },
 "nbformat": 4,
 "nbformat_minor": 4
}
